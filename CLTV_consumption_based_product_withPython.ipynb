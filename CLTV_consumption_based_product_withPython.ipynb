{
 "cells": [
  {
   "cell_type": "markdown",
   "metadata": {
    "application/vnd.databricks.v1+cell": {
     "cellMetadata": {},
     "inputWidgets": {},
     "nuid": "ccee38d1-ee9f-4d71-8455-85b93b5a503d",
     "showTitle": false,
     "tableResultSettingsMap": {},
     "title": ""
    }
   },
   "source": [
    "\n",
    "## Customer Lifetime Value (CLTV) \n",
    "\n",
    "💰  **Definition:** CLTV is the total revenue a business can reasonably expect to earn from a single customer over the entire duration of their relationship.\n",
    "\n",
    "🎯 **Why CLTV is a Critical Metric**\n",
    "\n",
    "For a Software as a Service (SaaS) business, where revenue is subscription-based and recurs over time, **CLTV** is especially vital because it helps you:\n",
    "\n",
    "1. **Assess Profitability:** It shows the long-term value of a customer versus the cost to acquire and serve them.\n",
    "2. **Determine Customer Acquisition Cost (CAC) Limits:** CLTV sets the upper limit on how much you can afford to spend to acquire a new customer (ideally, your CLTV should be at least **3 times** your CAC).\n",
    "3. **Guide Strategic Decisions:** It informs pricing, sales, marketing, and customer success strategies—you should invest more in acquiring and retaining high-CLTV customer segments.\n",
    "4. **Forecast Revenue:** It helps in projecting future revenue streams and overall financial health."
   ]
  },
  {
   "cell_type": "markdown",
   "metadata": {},
   "source": [
    "### 🛠️ The CLTV Formula (Transaction-Based)\n",
    "\n",
    "Customer Lifetime Value (CLTV) estimates the **total expected profit from a customer** based on their past purchasing behavior and expected retention.\n",
    "\n",
    "$$\\text{CLTV} = \\frac{(\\text{Average Order Value} \\times \\text{Purchase Frequency})\\times \\text{Gross Margin}}{\\text{Customer Churn Rate}}$$"
   ]
  },
  {
   "cell_type": "markdown",
   "metadata": {},
   "source": [
    "**Key Metrics Defined:**\n",
    "\n",
    "| Metric | Definition | Formula |\n",
    "| :--- | :--- | :--- |\n",
    "| **Average Order Value (AOV)** | The average amount a customer spends per order. | $$\\text{AOV} = \\frac{\\text{Total Sales}}{\\text{Number of Orders}}$$ |\n",
    "| **Purchase Frequency** | How often customers place orders within a given period. | $$\\text{Purchase Frequency} = \\frac{\\text{Total Orders}}{\\text{Number of Unique Customers}}$$ |\n",
    "| **Gross Margin** | The average profitability of each sale after variable costs (such as delivery and development). | $$\\text{Gross Margin} = \\frac{\\text{Sales} - \\text{COGS}}{\\text{Sales}}$$  |\n",
    "| **Expected Customer Lifespan** | The predicted number of periods (e.g., months or years) a customer remains active. | $$\\text{Expected Lifespan} = \\frac{1}{\\text{Churn Rate}}$$ |\n",
    "| **Churn Rate** | The proportion of customers lost in a given period. | $$\\text{Churn Rate} = 1 - \\frac{\\text{Active Customers at End}}{\\text{Active Customers at Start}}$$ |"
   ]
  },
  {
   "cell_type": "code",
   "execution_count": 4,
   "metadata": {
    "application/vnd.databricks.v1+cell": {
     "cellMetadata": {
      "byteLimit": 2048000,
      "rowLimit": 10000
     },
     "inputWidgets": {},
     "nuid": "39706d72-27ae-4c0d-be9a-271c4a5bec12",
     "showTitle": false,
     "tableResultSettingsMap": {},
     "title": ""
    }
   },
   "outputs": [],
   "source": [
    "import pandas as pd\n",
    "import numpy as np\n",
    "import matplotlib.pyplot as plt"
   ]
  },
  {
   "cell_type": "code",
   "execution_count": 5,
   "metadata": {
    "application/vnd.databricks.v1+cell": {
     "cellMetadata": {
      "byteLimit": 2048000,
      "rowLimit": 10000
     },
     "inputWidgets": {},
     "nuid": "3fe66330-2c04-46a5-bed5-08e35902f58e",
     "showTitle": false,
     "tableResultSettingsMap": {},
     "title": ""
    }
   },
   "outputs": [],
   "source": [
    "#source: https://www.kaggle.com/code/gabrielenoaro/saas-company-aws-sales-exploratory-data-analys\n",
    "usersCsvPath = \"C:\\\\Users\\\\olesia.tankersley\\\\Downloads\\\\Go-To-Market-Analytics\\\\data\\\\SaaS-Sales.csv\"\n",
    "df = pd.read_csv(usersCsvPath, parse_dates = ['Order Date'])"
   ]
  },
  {
   "cell_type": "markdown",
   "metadata": {
    "application/vnd.databricks.v1+cell": {
     "cellMetadata": {},
     "inputWidgets": {},
     "nuid": "02a251dc-8c0d-4ef7-b0ea-fef082eed1b6",
     "showTitle": false,
     "tableResultSettingsMap": {},
     "title": ""
    }
   },
   "source": [
    "## Dataset Description\n",
    "\n",
    "The SaaS Sales dataset captures transactional data for software-as-a-service (SaaS) product sales across multiple regions and industries. Each record represents an individual order line, including information about the customer, geography, product details, and key commercial metrics. The dataset enables analysis of sales performance, profitability, and customer segmentation over time, supporting insights into pricing effectiveness, regional demand, and customer value. \n",
    "\n",
    "The dataset includes both categorical and quantitative variables, allowing exploration of dimensions such as industry, region, and segment alongside financial outcomes like sales revenue, discounts, and profit."
   ]
  },
  {
   "cell_type": "markdown",
   "metadata": {},
   "source": [
    "## Data Dictionary\n",
    "\n",
    "| **Field Name**   | **Description**                                                                         |\n",
    "| ---------------- | --------------------------------------------------------------------------------------- |\n",
    "| **Row ID**       | Unique identifier for each row or transaction record.                                   |\n",
    "| **Order ID**     | Identifier linking multiple items or licenses under a single order.                     |\n",
    "| **Order Date**   | Date when the order was placed or confirmed.                                            |\n",
    "| **Date Key**     | Numeric or formatted key used for joining with a time dimension table (e.g., YYYYMMDD). |\n",
    "| **Contact Name** | Name of the customer contact person associated with the order.                          |\n",
    "| **Country**      | Country where the customer is located.                                                  |\n",
    "| **City**         | City corresponding to the customer’s address or billing location.                       |\n",
    "| **Region**       | Higher-level geographic region (e.g., North America, EMEA, APAC).                       |\n",
    "| **Subregion**    | Subdivision within a region (e.g., Western Europe, Southeast Asia).                     |\n",
    "| **Customer**     | Name of the customer organization purchasing the SaaS product.                          |\n",
    "| **Customer ID**  | Unique identifier assigned to each customer.                                            |\n",
    "| **Industry**     | Industry classification of the customer (e.g., Healthcare, Finance, Manufacturing).     |\n",
    "| **Segment**      | Market or business segment (e.g., Enterprise, SMB, Public Sector).                      |\n",
    "| **Product**      | Name or type of SaaS product sold.                                                      |\n",
    "| **License**      | Type or tier of license ID.                                                             |\n",
    "| **Sales**        | Total sales revenue for the order line, typically before discounts.                     |\n",
    "| **Quantity**     | Number of units or licenses sold.                                                       |\n",
    "| **Discount**     | Discount applied to the sales amount (absolute or percentage).                          |\n",
    "| **Profit**       | Net profit derived from the sale after accounting for costs and discounts.              |"
   ]
  },
  {
   "cell_type": "markdown",
   "metadata": {},
   "source": [
    "### Step 1: Inspect the dataset"
   ]
  },
  {
   "cell_type": "code",
   "execution_count": 9,
   "metadata": {},
   "outputs": [
    {
     "data": {
      "text/html": [
       "<div>\n",
       "<style scoped>\n",
       "    .dataframe tbody tr th:only-of-type {\n",
       "        vertical-align: middle;\n",
       "    }\n",
       "\n",
       "    .dataframe tbody tr th {\n",
       "        vertical-align: top;\n",
       "    }\n",
       "\n",
       "    .dataframe thead th {\n",
       "        text-align: right;\n",
       "    }\n",
       "</style>\n",
       "<table border=\"1\" class=\"dataframe\">\n",
       "  <thead>\n",
       "    <tr style=\"text-align: right;\">\n",
       "      <th></th>\n",
       "      <th>0</th>\n",
       "      <th>1</th>\n",
       "      <th>2</th>\n",
       "      <th>3</th>\n",
       "      <th>4</th>\n",
       "    </tr>\n",
       "  </thead>\n",
       "  <tbody>\n",
       "    <tr>\n",
       "      <th>Row ID</th>\n",
       "      <td>1</td>\n",
       "      <td>2</td>\n",
       "      <td>3</td>\n",
       "      <td>4</td>\n",
       "      <td>5</td>\n",
       "    </tr>\n",
       "    <tr>\n",
       "      <th>Order ID</th>\n",
       "      <td>EMEA-2022-152156</td>\n",
       "      <td>EMEA-2022-152156</td>\n",
       "      <td>AMER-2022-138688</td>\n",
       "      <td>EMEA-2021-108966</td>\n",
       "      <td>EMEA-2021-108966</td>\n",
       "    </tr>\n",
       "    <tr>\n",
       "      <th>Order Date</th>\n",
       "      <td>2022-11-09 00:00:00</td>\n",
       "      <td>2022-11-09 00:00:00</td>\n",
       "      <td>2022-06-13 00:00:00</td>\n",
       "      <td>2021-10-11 00:00:00</td>\n",
       "      <td>2021-10-11 00:00:00</td>\n",
       "    </tr>\n",
       "    <tr>\n",
       "      <th>Date Key</th>\n",
       "      <td>20221109</td>\n",
       "      <td>20221109</td>\n",
       "      <td>20220613</td>\n",
       "      <td>20211011</td>\n",
       "      <td>20211011</td>\n",
       "    </tr>\n",
       "    <tr>\n",
       "      <th>Contact Name</th>\n",
       "      <td>Nathan Bell</td>\n",
       "      <td>Nathan Bell</td>\n",
       "      <td>Deirdre Bailey</td>\n",
       "      <td>Zoe Hodges</td>\n",
       "      <td>Zoe Hodges</td>\n",
       "    </tr>\n",
       "    <tr>\n",
       "      <th>Country</th>\n",
       "      <td>Ireland</td>\n",
       "      <td>Ireland</td>\n",
       "      <td>United States</td>\n",
       "      <td>Germany</td>\n",
       "      <td>Germany</td>\n",
       "    </tr>\n",
       "    <tr>\n",
       "      <th>City</th>\n",
       "      <td>Dublin</td>\n",
       "      <td>Dublin</td>\n",
       "      <td>New York City</td>\n",
       "      <td>Stuttgart</td>\n",
       "      <td>Stuttgart</td>\n",
       "    </tr>\n",
       "    <tr>\n",
       "      <th>Region</th>\n",
       "      <td>EMEA</td>\n",
       "      <td>EMEA</td>\n",
       "      <td>AMER</td>\n",
       "      <td>EMEA</td>\n",
       "      <td>EMEA</td>\n",
       "    </tr>\n",
       "    <tr>\n",
       "      <th>Subregion</th>\n",
       "      <td>UKIR</td>\n",
       "      <td>UKIR</td>\n",
       "      <td>NAMER</td>\n",
       "      <td>EU-WEST</td>\n",
       "      <td>EU-WEST</td>\n",
       "    </tr>\n",
       "    <tr>\n",
       "      <th>Customer</th>\n",
       "      <td>Chevron</td>\n",
       "      <td>Chevron</td>\n",
       "      <td>Phillips 66</td>\n",
       "      <td>Royal Dutch Shell</td>\n",
       "      <td>Royal Dutch Shell</td>\n",
       "    </tr>\n",
       "    <tr>\n",
       "      <th>Customer ID</th>\n",
       "      <td>1017</td>\n",
       "      <td>1017</td>\n",
       "      <td>1056</td>\n",
       "      <td>1031</td>\n",
       "      <td>1031</td>\n",
       "    </tr>\n",
       "    <tr>\n",
       "      <th>Industry</th>\n",
       "      <td>Energy</td>\n",
       "      <td>Energy</td>\n",
       "      <td>Energy</td>\n",
       "      <td>Energy</td>\n",
       "      <td>Energy</td>\n",
       "    </tr>\n",
       "    <tr>\n",
       "      <th>Segment</th>\n",
       "      <td>SMB</td>\n",
       "      <td>SMB</td>\n",
       "      <td>Strategic</td>\n",
       "      <td>SMB</td>\n",
       "      <td>SMB</td>\n",
       "    </tr>\n",
       "    <tr>\n",
       "      <th>Product</th>\n",
       "      <td>Marketing Suite</td>\n",
       "      <td>FinanceHub</td>\n",
       "      <td>FinanceHub</td>\n",
       "      <td>ContactMatcher</td>\n",
       "      <td>Marketing Suite - Gold</td>\n",
       "    </tr>\n",
       "    <tr>\n",
       "      <th>License</th>\n",
       "      <td>16GRM07R1K</td>\n",
       "      <td>QLIW57KZUV</td>\n",
       "      <td>JI6BVL70HQ</td>\n",
       "      <td>DE9GJKGD44</td>\n",
       "      <td>OIF7NY23WD</td>\n",
       "    </tr>\n",
       "    <tr>\n",
       "      <th>Sales</th>\n",
       "      <td>261.96</td>\n",
       "      <td>731.94</td>\n",
       "      <td>14.62</td>\n",
       "      <td>957.5775</td>\n",
       "      <td>22.368</td>\n",
       "    </tr>\n",
       "    <tr>\n",
       "      <th>Quantity</th>\n",
       "      <td>2</td>\n",
       "      <td>3</td>\n",
       "      <td>2</td>\n",
       "      <td>5</td>\n",
       "      <td>2</td>\n",
       "    </tr>\n",
       "    <tr>\n",
       "      <th>Discount</th>\n",
       "      <td>0.0</td>\n",
       "      <td>0.0</td>\n",
       "      <td>0.0</td>\n",
       "      <td>0.45</td>\n",
       "      <td>0.2</td>\n",
       "    </tr>\n",
       "    <tr>\n",
       "      <th>Profit</th>\n",
       "      <td>41.9136</td>\n",
       "      <td>219.582</td>\n",
       "      <td>6.8714</td>\n",
       "      <td>-383.031</td>\n",
       "      <td>2.5164</td>\n",
       "    </tr>\n",
       "  </tbody>\n",
       "</table>\n",
       "</div>"
      ],
      "text/plain": [
       "                                0                    1                    2  \\\n",
       "Row ID                          1                    2                    3   \n",
       "Order ID         EMEA-2022-152156     EMEA-2022-152156     AMER-2022-138688   \n",
       "Order Date    2022-11-09 00:00:00  2022-11-09 00:00:00  2022-06-13 00:00:00   \n",
       "Date Key                 20221109             20221109             20220613   \n",
       "Contact Name          Nathan Bell          Nathan Bell       Deirdre Bailey   \n",
       "Country                   Ireland              Ireland        United States   \n",
       "City                       Dublin               Dublin        New York City   \n",
       "Region                       EMEA                 EMEA                 AMER   \n",
       "Subregion                    UKIR                 UKIR                NAMER   \n",
       "Customer                  Chevron              Chevron          Phillips 66   \n",
       "Customer ID                  1017                 1017                 1056   \n",
       "Industry                   Energy               Energy               Energy   \n",
       "Segment                       SMB                  SMB            Strategic   \n",
       "Product           Marketing Suite           FinanceHub           FinanceHub   \n",
       "License                16GRM07R1K           QLIW57KZUV           JI6BVL70HQ   \n",
       "Sales                      261.96               731.94                14.62   \n",
       "Quantity                        2                    3                    2   \n",
       "Discount                      0.0                  0.0                  0.0   \n",
       "Profit                    41.9136              219.582               6.8714   \n",
       "\n",
       "                                3                       4  \n",
       "Row ID                          4                       5  \n",
       "Order ID         EMEA-2021-108966        EMEA-2021-108966  \n",
       "Order Date    2021-10-11 00:00:00     2021-10-11 00:00:00  \n",
       "Date Key                 20211011                20211011  \n",
       "Contact Name           Zoe Hodges              Zoe Hodges  \n",
       "Country                   Germany                 Germany  \n",
       "City                    Stuttgart               Stuttgart  \n",
       "Region                       EMEA                    EMEA  \n",
       "Subregion                 EU-WEST                 EU-WEST  \n",
       "Customer        Royal Dutch Shell       Royal Dutch Shell  \n",
       "Customer ID                  1031                    1031  \n",
       "Industry                   Energy                  Energy  \n",
       "Segment                       SMB                     SMB  \n",
       "Product            ContactMatcher  Marketing Suite - Gold  \n",
       "License                DE9GJKGD44              OIF7NY23WD  \n",
       "Sales                    957.5775                  22.368  \n",
       "Quantity                        5                       2  \n",
       "Discount                     0.45                     0.2  \n",
       "Profit                   -383.031                  2.5164  "
      ]
     },
     "execution_count": 9,
     "metadata": {},
     "output_type": "execute_result"
    }
   ],
   "source": [
    "df.head().T"
   ]
  },
  {
   "cell_type": "code",
   "execution_count": 10,
   "metadata": {},
   "outputs": [
    {
     "name": "stdout",
     "output_type": "stream",
     "text": [
      "<class 'pandas.core.frame.DataFrame'>\n",
      "RangeIndex: 9994 entries, 0 to 9993\n",
      "Data columns (total 19 columns):\n",
      " #   Column        Non-Null Count  Dtype         \n",
      "---  ------        --------------  -----         \n",
      " 0   Row ID        9994 non-null   int64         \n",
      " 1   Order ID      9994 non-null   object        \n",
      " 2   Order Date    9994 non-null   datetime64[ns]\n",
      " 3   Date Key      9994 non-null   int64         \n",
      " 4   Contact Name  9994 non-null   object        \n",
      " 5   Country       9994 non-null   object        \n",
      " 6   City          9994 non-null   object        \n",
      " 7   Region        9994 non-null   object        \n",
      " 8   Subregion     9994 non-null   object        \n",
      " 9   Customer      9994 non-null   object        \n",
      " 10  Customer ID   9994 non-null   int64         \n",
      " 11  Industry      9994 non-null   object        \n",
      " 12  Segment       9994 non-null   object        \n",
      " 13  Product       9994 non-null   object        \n",
      " 14  License       9994 non-null   object        \n",
      " 15  Sales         9994 non-null   float64       \n",
      " 16  Quantity      9994 non-null   int64         \n",
      " 17  Discount      9994 non-null   float64       \n",
      " 18  Profit        9994 non-null   float64       \n",
      "dtypes: datetime64[ns](1), float64(3), int64(4), object(11)\n",
      "memory usage: 1.4+ MB\n"
     ]
    }
   ],
   "source": [
    "df.info()"
   ]
  },
  {
   "cell_type": "code",
   "execution_count": 11,
   "metadata": {},
   "outputs": [
    {
     "data": {
      "text/plain": [
       "Index(['Row ID', 'Order ID', 'Order Date', 'Date Key', 'Contact Name',\n",
       "       'Country', 'City', 'Region', 'Subregion', 'Customer', 'Customer ID',\n",
       "       'Industry', 'Segment', 'Product', 'License', 'Sales', 'Quantity',\n",
       "       'Discount', 'Profit'],\n",
       "      dtype='object')"
      ]
     },
     "execution_count": 11,
     "metadata": {},
     "output_type": "execute_result"
    }
   ],
   "source": [
    "df.columns"
   ]
  },
  {
   "cell_type": "code",
   "execution_count": 12,
   "metadata": {},
   "outputs": [
    {
     "data": {
      "text/html": [
       "<div>\n",
       "<style scoped>\n",
       "    .dataframe tbody tr th:only-of-type {\n",
       "        vertical-align: middle;\n",
       "    }\n",
       "\n",
       "    .dataframe tbody tr th {\n",
       "        vertical-align: top;\n",
       "    }\n",
       "\n",
       "    .dataframe thead th {\n",
       "        text-align: right;\n",
       "    }\n",
       "</style>\n",
       "<table border=\"1\" class=\"dataframe\">\n",
       "  <thead>\n",
       "    <tr style=\"text-align: right;\">\n",
       "      <th></th>\n",
       "      <th>Order ID</th>\n",
       "      <th>Contact Name</th>\n",
       "      <th>Country</th>\n",
       "      <th>City</th>\n",
       "      <th>Region</th>\n",
       "      <th>Subregion</th>\n",
       "      <th>Customer</th>\n",
       "      <th>Industry</th>\n",
       "      <th>Segment</th>\n",
       "      <th>Product</th>\n",
       "      <th>License</th>\n",
       "    </tr>\n",
       "  </thead>\n",
       "  <tbody>\n",
       "    <tr>\n",
       "      <th>count</th>\n",
       "      <td>9994</td>\n",
       "      <td>9994</td>\n",
       "      <td>9994</td>\n",
       "      <td>9994</td>\n",
       "      <td>9994</td>\n",
       "      <td>9994</td>\n",
       "      <td>9994</td>\n",
       "      <td>9994</td>\n",
       "      <td>9994</td>\n",
       "      <td>9994</td>\n",
       "      <td>9994</td>\n",
       "    </tr>\n",
       "    <tr>\n",
       "      <th>unique</th>\n",
       "      <td>5009</td>\n",
       "      <td>793</td>\n",
       "      <td>48</td>\n",
       "      <td>262</td>\n",
       "      <td>3</td>\n",
       "      <td>12</td>\n",
       "      <td>99</td>\n",
       "      <td>10</td>\n",
       "      <td>3</td>\n",
       "      <td>14</td>\n",
       "      <td>9994</td>\n",
       "    </tr>\n",
       "    <tr>\n",
       "      <th>top</th>\n",
       "      <td>EMEA-2023-100111</td>\n",
       "      <td>Leonard Kelly</td>\n",
       "      <td>United States</td>\n",
       "      <td>London</td>\n",
       "      <td>EMEA</td>\n",
       "      <td>NAMER</td>\n",
       "      <td>Allianz</td>\n",
       "      <td>Finance</td>\n",
       "      <td>SMB</td>\n",
       "      <td>ContactMatcher</td>\n",
       "      <td>16GRM07R1K</td>\n",
       "    </tr>\n",
       "    <tr>\n",
       "      <th>freq</th>\n",
       "      <td>14</td>\n",
       "      <td>37</td>\n",
       "      <td>2001</td>\n",
       "      <td>922</td>\n",
       "      <td>4219</td>\n",
       "      <td>2507</td>\n",
       "      <td>192</td>\n",
       "      <td>2127</td>\n",
       "      <td>5191</td>\n",
       "      <td>1842</td>\n",
       "      <td>1</td>\n",
       "    </tr>\n",
       "  </tbody>\n",
       "</table>\n",
       "</div>"
      ],
      "text/plain": [
       "                Order ID   Contact Name        Country    City Region  \\\n",
       "count               9994           9994           9994    9994   9994   \n",
       "unique              5009            793             48     262      3   \n",
       "top     EMEA-2023-100111  Leonard Kelly  United States  London   EMEA   \n",
       "freq                  14             37           2001     922   4219   \n",
       "\n",
       "       Subregion Customer Industry Segment         Product     License  \n",
       "count       9994     9994     9994    9994            9994        9994  \n",
       "unique        12       99       10       3              14        9994  \n",
       "top        NAMER  Allianz  Finance     SMB  ContactMatcher  16GRM07R1K  \n",
       "freq        2507      192     2127    5191            1842           1  "
      ]
     },
     "execution_count": 12,
     "metadata": {},
     "output_type": "execute_result"
    }
   ],
   "source": [
    "df.describe(include = ['object'])"
   ]
  },
  {
   "cell_type": "code",
   "execution_count": 13,
   "metadata": {},
   "outputs": [
    {
     "data": {
      "text/html": [
       "<div>\n",
       "<style scoped>\n",
       "    .dataframe tbody tr th:only-of-type {\n",
       "        vertical-align: middle;\n",
       "    }\n",
       "\n",
       "    .dataframe tbody tr th {\n",
       "        vertical-align: top;\n",
       "    }\n",
       "\n",
       "    .dataframe thead th {\n",
       "        text-align: right;\n",
       "    }\n",
       "</style>\n",
       "<table border=\"1\" class=\"dataframe\">\n",
       "  <thead>\n",
       "    <tr style=\"text-align: right;\">\n",
       "      <th></th>\n",
       "      <th>Row ID</th>\n",
       "      <th>Date Key</th>\n",
       "      <th>Customer ID</th>\n",
       "      <th>Sales</th>\n",
       "      <th>Quantity</th>\n",
       "      <th>Discount</th>\n",
       "      <th>Profit</th>\n",
       "    </tr>\n",
       "  </thead>\n",
       "  <tbody>\n",
       "    <tr>\n",
       "      <th>count</th>\n",
       "      <td>9994.000000</td>\n",
       "      <td>9.994000e+03</td>\n",
       "      <td>9994.000000</td>\n",
       "      <td>9994.000000</td>\n",
       "      <td>9994.000000</td>\n",
       "      <td>9994.000000</td>\n",
       "      <td>9994.000000</td>\n",
       "    </tr>\n",
       "    <tr>\n",
       "      <th>mean</th>\n",
       "      <td>4997.500000</td>\n",
       "      <td>2.021803e+07</td>\n",
       "      <td>1049.771963</td>\n",
       "      <td>229.858001</td>\n",
       "      <td>3.789574</td>\n",
       "      <td>0.156203</td>\n",
       "      <td>28.656896</td>\n",
       "    </tr>\n",
       "    <tr>\n",
       "      <th>std</th>\n",
       "      <td>2885.163629</td>\n",
       "      <td>1.123898e+04</td>\n",
       "      <td>29.719388</td>\n",
       "      <td>623.245101</td>\n",
       "      <td>2.225110</td>\n",
       "      <td>0.206452</td>\n",
       "      <td>234.260108</td>\n",
       "    </tr>\n",
       "    <tr>\n",
       "      <th>min</th>\n",
       "      <td>1.000000</td>\n",
       "      <td>2.020010e+07</td>\n",
       "      <td>1001.000000</td>\n",
       "      <td>0.444000</td>\n",
       "      <td>1.000000</td>\n",
       "      <td>0.000000</td>\n",
       "      <td>-6599.978000</td>\n",
       "    </tr>\n",
       "    <tr>\n",
       "      <th>25%</th>\n",
       "      <td>2499.250000</td>\n",
       "      <td>2.021052e+07</td>\n",
       "      <td>1024.000000</td>\n",
       "      <td>17.280000</td>\n",
       "      <td>2.000000</td>\n",
       "      <td>0.000000</td>\n",
       "      <td>1.728750</td>\n",
       "    </tr>\n",
       "    <tr>\n",
       "      <th>50%</th>\n",
       "      <td>4997.500000</td>\n",
       "      <td>2.022063e+07</td>\n",
       "      <td>1049.000000</td>\n",
       "      <td>54.490000</td>\n",
       "      <td>3.000000</td>\n",
       "      <td>0.200000</td>\n",
       "      <td>8.666500</td>\n",
       "    </tr>\n",
       "    <tr>\n",
       "      <th>75%</th>\n",
       "      <td>7495.750000</td>\n",
       "      <td>2.023052e+07</td>\n",
       "      <td>1076.000000</td>\n",
       "      <td>209.940000</td>\n",
       "      <td>5.000000</td>\n",
       "      <td>0.200000</td>\n",
       "      <td>29.364000</td>\n",
       "    </tr>\n",
       "    <tr>\n",
       "      <th>max</th>\n",
       "      <td>9994.000000</td>\n",
       "      <td>2.023123e+07</td>\n",
       "      <td>1101.000000</td>\n",
       "      <td>22638.480000</td>\n",
       "      <td>14.000000</td>\n",
       "      <td>0.800000</td>\n",
       "      <td>8399.976000</td>\n",
       "    </tr>\n",
       "  </tbody>\n",
       "</table>\n",
       "</div>"
      ],
      "text/plain": [
       "            Row ID      Date Key  Customer ID         Sales     Quantity  \\\n",
       "count  9994.000000  9.994000e+03  9994.000000   9994.000000  9994.000000   \n",
       "mean   4997.500000  2.021803e+07  1049.771963    229.858001     3.789574   \n",
       "std    2885.163629  1.123898e+04    29.719388    623.245101     2.225110   \n",
       "min       1.000000  2.020010e+07  1001.000000      0.444000     1.000000   \n",
       "25%    2499.250000  2.021052e+07  1024.000000     17.280000     2.000000   \n",
       "50%    4997.500000  2.022063e+07  1049.000000     54.490000     3.000000   \n",
       "75%    7495.750000  2.023052e+07  1076.000000    209.940000     5.000000   \n",
       "max    9994.000000  2.023123e+07  1101.000000  22638.480000    14.000000   \n",
       "\n",
       "          Discount       Profit  \n",
       "count  9994.000000  9994.000000  \n",
       "mean      0.156203    28.656896  \n",
       "std       0.206452   234.260108  \n",
       "min       0.000000 -6599.978000  \n",
       "25%       0.000000     1.728750  \n",
       "50%       0.200000     8.666500  \n",
       "75%       0.200000    29.364000  \n",
       "max       0.800000  8399.976000  "
      ]
     },
     "execution_count": 13,
     "metadata": {},
     "output_type": "execute_result"
    }
   ],
   "source": [
    "df.describe(include = ['number'])"
   ]
  },
  {
   "cell_type": "code",
   "execution_count": 14,
   "metadata": {},
   "outputs": [
    {
     "data": {
      "text/plain": [
       "True"
      ]
     },
     "execution_count": 14,
     "metadata": {},
     "output_type": "execute_result"
    }
   ],
   "source": [
    "#check if row ids are unique\n",
    "df['Row ID'].is_unique"
   ]
  },
  {
   "cell_type": "code",
   "execution_count": 15,
   "metadata": {},
   "outputs": [
    {
     "data": {
      "text/plain": [
       "False"
      ]
     },
     "execution_count": 15,
     "metadata": {},
     "output_type": "execute_result"
    }
   ],
   "source": [
    "#check if there are more than 1 product per order\n",
    "df['Order ID'].is_unique"
   ]
  },
  {
   "cell_type": "code",
   "execution_count": 16,
   "metadata": {
    "scrolled": true
   },
   "outputs": [],
   "source": [
    "#product can appear more than one time per order \n",
    "#for p in df['Order ID'].drop_duplicates().to_list(): \n",
    "    #print(p, df.loc[df['Order ID'] == p, 'Product'].is_unique)"
   ]
  },
  {
   "cell_type": "code",
   "execution_count": 17,
   "metadata": {},
   "outputs": [
    {
     "data": {
      "text/html": [
       "<div>\n",
       "<style scoped>\n",
       "    .dataframe tbody tr th:only-of-type {\n",
       "        vertical-align: middle;\n",
       "    }\n",
       "\n",
       "    .dataframe tbody tr th {\n",
       "        vertical-align: top;\n",
       "    }\n",
       "\n",
       "    .dataframe thead th {\n",
       "        text-align: right;\n",
       "    }\n",
       "</style>\n",
       "<table border=\"1\" class=\"dataframe\">\n",
       "  <thead>\n",
       "    <tr style=\"text-align: right;\">\n",
       "      <th></th>\n",
       "      <th>Row ID</th>\n",
       "      <th>Order ID</th>\n",
       "      <th>Order Date</th>\n",
       "      <th>Date Key</th>\n",
       "      <th>Contact Name</th>\n",
       "      <th>Country</th>\n",
       "      <th>City</th>\n",
       "      <th>Region</th>\n",
       "      <th>Subregion</th>\n",
       "      <th>Customer</th>\n",
       "      <th>Customer ID</th>\n",
       "      <th>Industry</th>\n",
       "      <th>Segment</th>\n",
       "      <th>Product</th>\n",
       "      <th>License</th>\n",
       "      <th>Sales</th>\n",
       "      <th>Quantity</th>\n",
       "      <th>Discount</th>\n",
       "      <th>Profit</th>\n",
       "    </tr>\n",
       "  </thead>\n",
       "  <tbody>\n",
       "    <tr>\n",
       "      <th>0</th>\n",
       "      <td>1</td>\n",
       "      <td>EMEA-2022-152156</td>\n",
       "      <td>2022-11-09</td>\n",
       "      <td>20221109</td>\n",
       "      <td>Nathan Bell</td>\n",
       "      <td>Ireland</td>\n",
       "      <td>Dublin</td>\n",
       "      <td>EMEA</td>\n",
       "      <td>UKIR</td>\n",
       "      <td>Chevron</td>\n",
       "      <td>1017</td>\n",
       "      <td>Energy</td>\n",
       "      <td>SMB</td>\n",
       "      <td>Marketing Suite</td>\n",
       "      <td>16GRM07R1K</td>\n",
       "      <td>261.96</td>\n",
       "      <td>2</td>\n",
       "      <td>0.0</td>\n",
       "      <td>41.9136</td>\n",
       "    </tr>\n",
       "    <tr>\n",
       "      <th>1</th>\n",
       "      <td>2</td>\n",
       "      <td>EMEA-2022-152156</td>\n",
       "      <td>2022-11-09</td>\n",
       "      <td>20221109</td>\n",
       "      <td>Nathan Bell</td>\n",
       "      <td>Ireland</td>\n",
       "      <td>Dublin</td>\n",
       "      <td>EMEA</td>\n",
       "      <td>UKIR</td>\n",
       "      <td>Chevron</td>\n",
       "      <td>1017</td>\n",
       "      <td>Energy</td>\n",
       "      <td>SMB</td>\n",
       "      <td>FinanceHub</td>\n",
       "      <td>QLIW57KZUV</td>\n",
       "      <td>731.94</td>\n",
       "      <td>3</td>\n",
       "      <td>0.0</td>\n",
       "      <td>219.5820</td>\n",
       "    </tr>\n",
       "  </tbody>\n",
       "</table>\n",
       "</div>"
      ],
      "text/plain": [
       "   Row ID          Order ID Order Date  Date Key Contact Name  Country  \\\n",
       "0       1  EMEA-2022-152156 2022-11-09  20221109  Nathan Bell  Ireland   \n",
       "1       2  EMEA-2022-152156 2022-11-09  20221109  Nathan Bell  Ireland   \n",
       "\n",
       "     City Region Subregion Customer  Customer ID Industry Segment  \\\n",
       "0  Dublin   EMEA      UKIR  Chevron         1017   Energy     SMB   \n",
       "1  Dublin   EMEA      UKIR  Chevron         1017   Energy     SMB   \n",
       "\n",
       "           Product     License   Sales  Quantity  Discount    Profit  \n",
       "0  Marketing Suite  16GRM07R1K  261.96         2       0.0   41.9136  \n",
       "1       FinanceHub  QLIW57KZUV  731.94         3       0.0  219.5820  "
      ]
     },
     "execution_count": 17,
     "metadata": {},
     "output_type": "execute_result"
    }
   ],
   "source": [
    "df[df['Order ID'] == 'EMEA-2022-152156']"
   ]
  },
  {
   "cell_type": "code",
   "execution_count": 18,
   "metadata": {},
   "outputs": [
    {
     "data": {
      "text/html": [
       "<div>\n",
       "<style scoped>\n",
       "    .dataframe tbody tr th:only-of-type {\n",
       "        vertical-align: middle;\n",
       "    }\n",
       "\n",
       "    .dataframe tbody tr th {\n",
       "        vertical-align: top;\n",
       "    }\n",
       "\n",
       "    .dataframe thead th {\n",
       "        text-align: right;\n",
       "    }\n",
       "</style>\n",
       "<table border=\"1\" class=\"dataframe\">\n",
       "  <thead>\n",
       "    <tr style=\"text-align: right;\">\n",
       "      <th></th>\n",
       "      <th>Row ID</th>\n",
       "      <th>Order ID</th>\n",
       "      <th>Order Date</th>\n",
       "      <th>Date Key</th>\n",
       "      <th>Contact Name</th>\n",
       "      <th>Country</th>\n",
       "      <th>City</th>\n",
       "      <th>Region</th>\n",
       "      <th>Subregion</th>\n",
       "      <th>Customer</th>\n",
       "      <th>Customer ID</th>\n",
       "      <th>Industry</th>\n",
       "      <th>Segment</th>\n",
       "      <th>Product</th>\n",
       "      <th>License</th>\n",
       "      <th>Sales</th>\n",
       "      <th>Quantity</th>\n",
       "      <th>Discount</th>\n",
       "      <th>Profit</th>\n",
       "    </tr>\n",
       "  </thead>\n",
       "  <tbody>\n",
       "    <tr>\n",
       "      <th>7</th>\n",
       "      <td>8</td>\n",
       "      <td>AMER-2020-115812</td>\n",
       "      <td>2020-06-09</td>\n",
       "      <td>20200609</td>\n",
       "      <td>Thomas Hodges</td>\n",
       "      <td>United States</td>\n",
       "      <td>New York City</td>\n",
       "      <td>AMER</td>\n",
       "      <td>NAMER</td>\n",
       "      <td>BNP Paribas</td>\n",
       "      <td>1065</td>\n",
       "      <td>Finance</td>\n",
       "      <td>SMB</td>\n",
       "      <td>Site Analytics</td>\n",
       "      <td>07842ES7DY</td>\n",
       "      <td>907.152</td>\n",
       "      <td>6</td>\n",
       "      <td>0.2</td>\n",
       "      <td>90.7152</td>\n",
       "    </tr>\n",
       "    <tr>\n",
       "      <th>11</th>\n",
       "      <td>12</td>\n",
       "      <td>AMER-2020-115812</td>\n",
       "      <td>2020-06-09</td>\n",
       "      <td>20200609</td>\n",
       "      <td>Thomas Hodges</td>\n",
       "      <td>United States</td>\n",
       "      <td>New York City</td>\n",
       "      <td>AMER</td>\n",
       "      <td>NAMER</td>\n",
       "      <td>BNP Paribas</td>\n",
       "      <td>1065</td>\n",
       "      <td>Finance</td>\n",
       "      <td>SMB</td>\n",
       "      <td>Site Analytics</td>\n",
       "      <td>JG14MOU94R</td>\n",
       "      <td>911.424</td>\n",
       "      <td>4</td>\n",
       "      <td>0.2</td>\n",
       "      <td>68.3568</td>\n",
       "    </tr>\n",
       "    <tr>\n",
       "      <th>5</th>\n",
       "      <td>6</td>\n",
       "      <td>AMER-2020-115812</td>\n",
       "      <td>2020-06-09</td>\n",
       "      <td>20200609</td>\n",
       "      <td>Thomas Hodges</td>\n",
       "      <td>United States</td>\n",
       "      <td>New York City</td>\n",
       "      <td>AMER</td>\n",
       "      <td>NAMER</td>\n",
       "      <td>BNP Paribas</td>\n",
       "      <td>1065</td>\n",
       "      <td>Finance</td>\n",
       "      <td>SMB</td>\n",
       "      <td>SaaS Connector Pack</td>\n",
       "      <td>8RM88WFOAE</td>\n",
       "      <td>48.860</td>\n",
       "      <td>7</td>\n",
       "      <td>0.0</td>\n",
       "      <td>14.1694</td>\n",
       "    </tr>\n",
       "    <tr>\n",
       "      <th>9</th>\n",
       "      <td>10</td>\n",
       "      <td>AMER-2020-115812</td>\n",
       "      <td>2020-06-09</td>\n",
       "      <td>20200609</td>\n",
       "      <td>Thomas Hodges</td>\n",
       "      <td>United States</td>\n",
       "      <td>New York City</td>\n",
       "      <td>AMER</td>\n",
       "      <td>NAMER</td>\n",
       "      <td>BNP Paribas</td>\n",
       "      <td>1065</td>\n",
       "      <td>Finance</td>\n",
       "      <td>SMB</td>\n",
       "      <td>OneView</td>\n",
       "      <td>71J8P9Z1P0</td>\n",
       "      <td>114.900</td>\n",
       "      <td>5</td>\n",
       "      <td>0.0</td>\n",
       "      <td>34.4700</td>\n",
       "    </tr>\n",
       "    <tr>\n",
       "      <th>8</th>\n",
       "      <td>9</td>\n",
       "      <td>AMER-2020-115812</td>\n",
       "      <td>2020-06-09</td>\n",
       "      <td>20200609</td>\n",
       "      <td>Thomas Hodges</td>\n",
       "      <td>United States</td>\n",
       "      <td>New York City</td>\n",
       "      <td>AMER</td>\n",
       "      <td>NAMER</td>\n",
       "      <td>BNP Paribas</td>\n",
       "      <td>1065</td>\n",
       "      <td>Finance</td>\n",
       "      <td>SMB</td>\n",
       "      <td>ContactMatcher</td>\n",
       "      <td>XPBOBXWXA3</td>\n",
       "      <td>18.504</td>\n",
       "      <td>3</td>\n",
       "      <td>0.2</td>\n",
       "      <td>5.7825</td>\n",
       "    </tr>\n",
       "    <tr>\n",
       "      <th>10</th>\n",
       "      <td>11</td>\n",
       "      <td>AMER-2020-115812</td>\n",
       "      <td>2020-06-09</td>\n",
       "      <td>20200609</td>\n",
       "      <td>Thomas Hodges</td>\n",
       "      <td>United States</td>\n",
       "      <td>New York City</td>\n",
       "      <td>AMER</td>\n",
       "      <td>NAMER</td>\n",
       "      <td>BNP Paribas</td>\n",
       "      <td>1065</td>\n",
       "      <td>Finance</td>\n",
       "      <td>SMB</td>\n",
       "      <td>ContactMatcher</td>\n",
       "      <td>43NZ37VE2D</td>\n",
       "      <td>1706.184</td>\n",
       "      <td>9</td>\n",
       "      <td>0.2</td>\n",
       "      <td>85.3092</td>\n",
       "    </tr>\n",
       "    <tr>\n",
       "      <th>6</th>\n",
       "      <td>7</td>\n",
       "      <td>AMER-2020-115812</td>\n",
       "      <td>2020-06-09</td>\n",
       "      <td>20200609</td>\n",
       "      <td>Thomas Hodges</td>\n",
       "      <td>United States</td>\n",
       "      <td>New York City</td>\n",
       "      <td>AMER</td>\n",
       "      <td>NAMER</td>\n",
       "      <td>BNP Paribas</td>\n",
       "      <td>1065</td>\n",
       "      <td>Finance</td>\n",
       "      <td>SMB</td>\n",
       "      <td>ChatBot Plugin</td>\n",
       "      <td>4SYTVM0746</td>\n",
       "      <td>7.280</td>\n",
       "      <td>4</td>\n",
       "      <td>0.0</td>\n",
       "      <td>1.9656</td>\n",
       "    </tr>\n",
       "  </tbody>\n",
       "</table>\n",
       "</div>"
      ],
      "text/plain": [
       "    Row ID          Order ID Order Date  Date Key   Contact Name  \\\n",
       "7        8  AMER-2020-115812 2020-06-09  20200609  Thomas Hodges   \n",
       "11      12  AMER-2020-115812 2020-06-09  20200609  Thomas Hodges   \n",
       "5        6  AMER-2020-115812 2020-06-09  20200609  Thomas Hodges   \n",
       "9       10  AMER-2020-115812 2020-06-09  20200609  Thomas Hodges   \n",
       "8        9  AMER-2020-115812 2020-06-09  20200609  Thomas Hodges   \n",
       "10      11  AMER-2020-115812 2020-06-09  20200609  Thomas Hodges   \n",
       "6        7  AMER-2020-115812 2020-06-09  20200609  Thomas Hodges   \n",
       "\n",
       "          Country           City Region Subregion     Customer  Customer ID  \\\n",
       "7   United States  New York City   AMER     NAMER  BNP Paribas         1065   \n",
       "11  United States  New York City   AMER     NAMER  BNP Paribas         1065   \n",
       "5   United States  New York City   AMER     NAMER  BNP Paribas         1065   \n",
       "9   United States  New York City   AMER     NAMER  BNP Paribas         1065   \n",
       "8   United States  New York City   AMER     NAMER  BNP Paribas         1065   \n",
       "10  United States  New York City   AMER     NAMER  BNP Paribas         1065   \n",
       "6   United States  New York City   AMER     NAMER  BNP Paribas         1065   \n",
       "\n",
       "   Industry Segment              Product     License     Sales  Quantity  \\\n",
       "7   Finance     SMB       Site Analytics  07842ES7DY   907.152         6   \n",
       "11  Finance     SMB       Site Analytics  JG14MOU94R   911.424         4   \n",
       "5   Finance     SMB  SaaS Connector Pack  8RM88WFOAE    48.860         7   \n",
       "9   Finance     SMB              OneView  71J8P9Z1P0   114.900         5   \n",
       "8   Finance     SMB       ContactMatcher  XPBOBXWXA3    18.504         3   \n",
       "10  Finance     SMB       ContactMatcher  43NZ37VE2D  1706.184         9   \n",
       "6   Finance     SMB       ChatBot Plugin  4SYTVM0746     7.280         4   \n",
       "\n",
       "    Discount   Profit  \n",
       "7        0.2  90.7152  \n",
       "11       0.2  68.3568  \n",
       "5        0.0  14.1694  \n",
       "9        0.0  34.4700  \n",
       "8        0.2   5.7825  \n",
       "10       0.2  85.3092  \n",
       "6        0.0   1.9656  "
      ]
     },
     "execution_count": 18,
     "metadata": {},
     "output_type": "execute_result"
    }
   ],
   "source": [
    "df[df['Order ID'] =='AMER-2020-115812'].sort_values(by = 'Product', ascending = False)"
   ]
  },
  {
   "cell_type": "code",
   "execution_count": 19,
   "metadata": {},
   "outputs": [
    {
     "data": {
      "text/plain": [
       "Customer ID\n",
       "1001    31\n",
       "1002    76\n",
       "1003    61\n",
       "1004    62\n",
       "1005    71\n",
       "        ..\n",
       "1097    53\n",
       "1098    40\n",
       "1099    47\n",
       "1100    52\n",
       "1101    36\n",
       "Name: Order ID, Length: 99, dtype: int64"
      ]
     },
     "execution_count": 19,
     "metadata": {},
     "output_type": "execute_result"
    }
   ],
   "source": [
    "#check  if customer has multiple orders \n",
    "df.groupby('Customer ID')['Order ID'].nunique()"
   ]
  },
  {
   "cell_type": "code",
   "execution_count": 20,
   "metadata": {},
   "outputs": [
    {
     "data": {
      "text/plain": [
       "<DatetimeArray>\n",
       "['2021-04-30 00:00:00', '2020-08-03 00:00:00', '2021-09-26 00:00:00',\n",
       " '2022-02-08 00:00:00', '2021-06-25 00:00:00', '2021-02-03 00:00:00',\n",
       " '2021-10-30 00:00:00', '2021-03-19 00:00:00', '2022-11-12 00:00:00',\n",
       " '2023-12-19 00:00:00', '2022-03-21 00:00:00', '2023-05-08 00:00:00',\n",
       " '2021-11-30 00:00:00', '2023-10-23 00:00:00', '2020-12-06 00:00:00',\n",
       " '2020-05-13 00:00:00', '2023-10-05 00:00:00', '2022-05-10 00:00:00',\n",
       " '2020-10-25 00:00:00', '2021-09-19 00:00:00', '2020-04-22 00:00:00',\n",
       " '2023-10-15 00:00:00', '2020-04-15 00:00:00', '2023-08-18 00:00:00',\n",
       " '2023-08-30 00:00:00', '2020-12-31 00:00:00', '2023-09-02 00:00:00',\n",
       " '2023-09-23 00:00:00', '2023-03-22 00:00:00', '2021-05-11 00:00:00',\n",
       " '2021-12-27 00:00:00']\n",
       "Length: 31, dtype: datetime64[ns]"
      ]
     },
     "execution_count": 20,
     "metadata": {},
     "output_type": "execute_result"
    }
   ],
   "source": [
    "#yes, a single customer can have more than one order in the dataset\n",
    "df[df['Customer ID'] == 1001]['Order Date'].unique()"
   ]
  },
  {
   "cell_type": "code",
   "execution_count": 21,
   "metadata": {},
   "outputs": [
    {
     "name": "stdout",
     "output_type": "stream",
     "text": [
      " minimum order date: 2020-01-04 00:00:00, maximum order date: 2023-12-31 00:00:00\n"
     ]
    }
   ],
   "source": [
    "#to define the time period, let's check how many years it spans\n",
    "# we have 4 years of data to calculate an average revenue per account\n",
    "print(f\" minimum order date: {df['Order Date'].min()}, maximum order date: {df['Order Date'].max()}\")"
   ]
  },
  {
   "cell_type": "markdown",
   "metadata": {},
   "source": [
    "### Step 2. Summarize by Customer"
   ]
  },
  {
   "cell_type": "code",
   "execution_count": 23,
   "metadata": {},
   "outputs": [],
   "source": [
    "customer_summary = (\n",
    "    \n",
    "    df.groupby('Customer ID')\n",
    "      .agg({'Sales': 'sum', 'Profit': 'sum', 'Order Date': ['min', 'max'], 'Order ID': 'nunique'})\n",
    "      .reset_index()\n",
    ")\n",
    "customer_summary.columns = ['Customer ID', 'Total Sales', 'Total Profit', 'First Purchase Date', 'Last Purchase Date', 'Num of Orders']"
   ]
  },
  {
   "cell_type": "code",
   "execution_count": 24,
   "metadata": {},
   "outputs": [],
   "source": [
    "customer_summary['Customer Age (days)'] = (customer_summary['Last Purchase Date'] - customer_summary['First Purchase Date']).dt.days + 1"
   ]
  },
  {
   "cell_type": "code",
   "execution_count": 25,
   "metadata": {},
   "outputs": [],
   "source": [
    "customer_summary['Avg Order Value'] = (customer_summary['Total Sales']/customer_summary['Num of Orders']).round(2)"
   ]
  },
  {
   "cell_type": "code",
   "execution_count": 26,
   "metadata": {},
   "outputs": [
    {
     "data": {
      "text/html": [
       "<div>\n",
       "<style scoped>\n",
       "    .dataframe tbody tr th:only-of-type {\n",
       "        vertical-align: middle;\n",
       "    }\n",
       "\n",
       "    .dataframe tbody tr th {\n",
       "        vertical-align: top;\n",
       "    }\n",
       "\n",
       "    .dataframe thead th {\n",
       "        text-align: right;\n",
       "    }\n",
       "</style>\n",
       "<table border=\"1\" class=\"dataframe\">\n",
       "  <thead>\n",
       "    <tr style=\"text-align: right;\">\n",
       "      <th></th>\n",
       "      <th>Customer ID</th>\n",
       "      <th>Total Sales</th>\n",
       "      <th>Total Profit</th>\n",
       "      <th>First Purchase Date</th>\n",
       "      <th>Last Purchase Date</th>\n",
       "      <th>Num of Orders</th>\n",
       "      <th>Customer Age (days)</th>\n",
       "      <th>Avg Order Value</th>\n",
       "    </tr>\n",
       "  </thead>\n",
       "  <tbody>\n",
       "    <tr>\n",
       "      <th>0</th>\n",
       "      <td>1001</td>\n",
       "      <td>12617.114</td>\n",
       "      <td>2281.7391</td>\n",
       "      <td>2020-04-15</td>\n",
       "      <td>2023-12-19</td>\n",
       "      <td>31</td>\n",
       "      <td>1344</td>\n",
       "      <td>407.00</td>\n",
       "    </tr>\n",
       "    <tr>\n",
       "      <th>1</th>\n",
       "      <td>1002</td>\n",
       "      <td>27278.593</td>\n",
       "      <td>3312.6698</td>\n",
       "      <td>2020-03-31</td>\n",
       "      <td>2023-12-10</td>\n",
       "      <td>76</td>\n",
       "      <td>1350</td>\n",
       "      <td>358.93</td>\n",
       "    </tr>\n",
       "    <tr>\n",
       "      <th>2</th>\n",
       "      <td>1003</td>\n",
       "      <td>39941.640</td>\n",
       "      <td>-2796.2935</td>\n",
       "      <td>2020-02-19</td>\n",
       "      <td>2023-12-30</td>\n",
       "      <td>61</td>\n",
       "      <td>1411</td>\n",
       "      <td>654.78</td>\n",
       "    </tr>\n",
       "  </tbody>\n",
       "</table>\n",
       "</div>"
      ],
      "text/plain": [
       "   Customer ID  Total Sales  Total Profit First Purchase Date  \\\n",
       "0         1001    12617.114     2281.7391          2020-04-15   \n",
       "1         1002    27278.593     3312.6698          2020-03-31   \n",
       "2         1003    39941.640    -2796.2935          2020-02-19   \n",
       "\n",
       "  Last Purchase Date  Num of Orders  Customer Age (days)  Avg Order Value  \n",
       "0         2023-12-19             31                 1344           407.00  \n",
       "1         2023-12-10             76                 1350           358.93  \n",
       "2         2023-12-30             61                 1411           654.78  "
      ]
     },
     "execution_count": 26,
     "metadata": {},
     "output_type": "execute_result"
    }
   ],
   "source": [
    "customer_summary.head(3)"
   ]
  },
  {
   "cell_type": "markdown",
   "metadata": {},
   "source": [
    "### Step 3. Calculate Purchase Frequency"
   ]
  },
  {
   "cell_type": "code",
   "execution_count": 28,
   "metadata": {},
   "outputs": [],
   "source": [
    "# Total number of customers\n",
    "total_customers = customer_summary['Customer ID'].nunique()\n",
    "# Purchase frequency = total orders / total unique customers\n",
    "purchase_frequency = df['Order ID'].nunique() / total_customers"
   ]
  },
  {
   "cell_type": "markdown",
   "metadata": {
    "application/vnd.databricks.v1+cell": {
     "cellMetadata": {},
     "inputWidgets": {},
     "nuid": "5297ba53-654e-4f5c-93b5-c254bad23dd4",
     "showTitle": false,
     "tableResultSettingsMap": {},
     "title": ""
    }
   },
   "source": [
    "### Step 4. Calculate Profit Margin"
   ]
  },
  {
   "cell_type": "code",
   "execution_count": 30,
   "metadata": {
    "application/vnd.databricks.v1+cell": {
     "cellMetadata": {},
     "inputWidgets": {},
     "nuid": "3358487f-e57e-4164-86e8-053ec2bf1af0",
     "showTitle": false,
     "tableResultSettingsMap": {},
     "title": ""
    }
   },
   "outputs": [],
   "source": [
    "# Gross margin (as ratio)\n",
    "customer_summary['Gross Margin'] = customer_summary['Total Profit'] / customer_summary['Total Sales']\n",
    "avg_gross_margin = customer_summary['Gross Margin'].mean()"
   ]
  },
  {
   "cell_type": "markdown",
   "metadata": {
    "application/vnd.databricks.v1+cell": {
     "cellMetadata": {},
     "inputWidgets": {},
     "nuid": "b0a59abc-57fe-4fe4-a8e1-82a0462f79fa",
     "showTitle": false,
     "tableResultSettingsMap": {},
     "title": ""
    }
   },
   "source": [
    "### 5. Calculate Churn Rate\n",
    "\n",
    "In this dataset, each customer has an order history, not an ongoing contract. So churn is inferred as a period of inactivity beyond a reasonable expectation of repurchase. Let's assume that the dataset contains **consumption-based SaaS products**\n",
    "\n",
    "A customer who hasn’t purchased in 6 months might be considered “churned” — if the typical repurchase cycle is 2 months. So “churn” depends on purchase cadence — not just time elapsed. Customers pay per use case. "
   ]
  },
  {
   "cell_type": "code",
   "execution_count": 32,
   "metadata": {
    "application/vnd.databricks.v1+cell": {
     "cellMetadata": {},
     "inputWidgets": {},
     "nuid": "9e2ab749-309e-4332-9c4e-13b7e8afaad4",
     "showTitle": false,
     "tableResultSettingsMap": {},
     "title": ""
    }
   },
   "outputs": [],
   "source": [
    "# Calculate the number of unique active customers each year (or month)\n",
    "df['YearMonth'] = df['Order Date'].dt.to_period('M')"
   ]
  },
  {
   "cell_type": "code",
   "execution_count": 33,
   "metadata": {},
   "outputs": [],
   "source": [
    "today = df['Order Date'].max()\n",
    "avg_ip_time = df.groupby('Customer ID')['Order Date'].apply(lambda x: x.sort_values().diff().mean())"
   ]
  },
  {
   "cell_type": "code",
   "execution_count": 34,
   "metadata": {},
   "outputs": [
    {
     "data": {
      "text/plain": [
       "Customer ID\n",
       "1001   20 days 08:21:49.090909091\n",
       "1002              8 days 21:00:00\n",
       "1003   13 days 13:23:04.615384615\n",
       "1004   10 days 18:46:00.902255639\n",
       "1005   10 days 05:49:24.705882353\n",
       "                  ...            \n",
       "1097   13 days 04:42:21.176470588\n",
       "1098   20 days 19:28:41.739130434\n",
       "1099   14 days 22:01:14.226804123\n",
       "1100   13 days 15:31:45.882352941\n",
       "1101   16 days 06:39:02.168674698\n",
       "Name: Order Date, Length: 99, dtype: timedelta64[ns]"
      ]
     },
     "execution_count": 34,
     "metadata": {},
     "output_type": "execute_result"
    }
   ],
   "source": [
    "avg_ip_time"
   ]
  },
  {
   "cell_type": "code",
   "execution_count": 35,
   "metadata": {},
   "outputs": [],
   "source": [
    "avg_ip_time =  avg_ip_time.mean()"
   ]
  },
  {
   "cell_type": "code",
   "execution_count": 36,
   "metadata": {},
   "outputs": [
    {
     "data": {
      "text/plain": [
       "Timedelta('15 days 19:13:03.561429828')"
      ]
     },
     "execution_count": 36,
     "metadata": {},
     "output_type": "execute_result"
    }
   ],
   "source": [
    "#on average, customers use a consuption-based product every 15 days \n",
    "avg_ip_time"
   ]
  },
  {
   "cell_type": "code",
   "execution_count": 37,
   "metadata": {},
   "outputs": [],
   "source": [
    "df_last = df.groupby('Customer ID')['Order Date'].max().reset_index()\n",
    "df_last['DaysSinceLastPurchase'] = (today - df_last['Order Date']).dt.days"
   ]
  },
  {
   "cell_type": "code",
   "execution_count": 38,
   "metadata": {},
   "outputs": [
    {
     "data": {
      "text/html": [
       "<div>\n",
       "<style scoped>\n",
       "    .dataframe tbody tr th:only-of-type {\n",
       "        vertical-align: middle;\n",
       "    }\n",
       "\n",
       "    .dataframe tbody tr th {\n",
       "        vertical-align: top;\n",
       "    }\n",
       "\n",
       "    .dataframe thead th {\n",
       "        text-align: right;\n",
       "    }\n",
       "</style>\n",
       "<table border=\"1\" class=\"dataframe\">\n",
       "  <thead>\n",
       "    <tr style=\"text-align: right;\">\n",
       "      <th></th>\n",
       "      <th>Customer ID</th>\n",
       "      <th>Order Date</th>\n",
       "      <th>DaysSinceLastPurchase</th>\n",
       "    </tr>\n",
       "  </thead>\n",
       "  <tbody>\n",
       "    <tr>\n",
       "      <th>0</th>\n",
       "      <td>1001</td>\n",
       "      <td>2023-12-19</td>\n",
       "      <td>12</td>\n",
       "    </tr>\n",
       "    <tr>\n",
       "      <th>1</th>\n",
       "      <td>1002</td>\n",
       "      <td>2023-12-10</td>\n",
       "      <td>21</td>\n",
       "    </tr>\n",
       "    <tr>\n",
       "      <th>2</th>\n",
       "      <td>1003</td>\n",
       "      <td>2023-12-30</td>\n",
       "      <td>1</td>\n",
       "    </tr>\n",
       "  </tbody>\n",
       "</table>\n",
       "</div>"
      ],
      "text/plain": [
       "   Customer ID Order Date  DaysSinceLastPurchase\n",
       "0         1001 2023-12-19                     12\n",
       "1         1002 2023-12-10                     21\n",
       "2         1003 2023-12-30                      1"
      ]
     },
     "execution_count": 38,
     "metadata": {},
     "output_type": "execute_result"
    }
   ],
   "source": [
    "df_last.head(3)"
   ]
  },
  {
   "cell_type": "code",
   "execution_count": 39,
   "metadata": {},
   "outputs": [],
   "source": [
    "# a customer is considered churned out after 30 days of inactivity\n",
    "churned_customers = df_last[df_last['DaysSinceLastPurchase'] > 2 * avg_ip_time.days]\n",
    "churn_rate = len(churned_customers) / df_last['Customer ID'].nunique()"
   ]
  },
  {
   "cell_type": "markdown",
   "metadata": {
    "application/vnd.databricks.v1+cell": {
     "cellMetadata": {},
     "inputWidgets": {},
     "nuid": "cb469839-0e49-4b20-a57a-6665b815eed1",
     "showTitle": false,
     "tableResultSettingsMap": {},
     "title": ""
    }
   },
   "source": [
    "### 5. Compute Customer Lifetime Value"
   ]
  },
  {
   "cell_type": "code",
   "execution_count": 41,
   "metadata": {
    "application/vnd.databricks.v1+cell": {
     "cellMetadata": {},
     "inputWidgets": {},
     "nuid": "c2b8e01b-131b-4f18-9d54-bc08741f558a",
     "showTitle": false,
     "tableResultSettingsMap": {},
     "title": ""
    }
   },
   "outputs": [],
   "source": [
    "customer_summary['CLTV'] = (customer_summary['Avg Order Value'] *\n",
    "                            purchase_frequency *\n",
    "                            avg_gross_margin / churn_rate).round(2)"
   ]
  },
  {
   "cell_type": "code",
   "execution_count": 42,
   "metadata": {
    "application/vnd.databricks.v1+cell": {
     "cellMetadata": {},
     "inputWidgets": {},
     "nuid": "623edc12-1098-4613-8c4e-24e31e90a423",
     "showTitle": false,
     "tableResultSettingsMap": {},
     "title": ""
    }
   },
   "outputs": [
    {
     "data": {
      "text/html": [
       "<div>\n",
       "<style scoped>\n",
       "    .dataframe tbody tr th:only-of-type {\n",
       "        vertical-align: middle;\n",
       "    }\n",
       "\n",
       "    .dataframe tbody tr th {\n",
       "        vertical-align: top;\n",
       "    }\n",
       "\n",
       "    .dataframe thead th {\n",
       "        text-align: right;\n",
       "    }\n",
       "</style>\n",
       "<table border=\"1\" class=\"dataframe\">\n",
       "  <thead>\n",
       "    <tr style=\"text-align: right;\">\n",
       "      <th></th>\n",
       "      <th>Customer ID</th>\n",
       "      <th>Total Sales</th>\n",
       "      <th>Total Profit</th>\n",
       "      <th>First Purchase Date</th>\n",
       "      <th>Last Purchase Date</th>\n",
       "      <th>Num of Orders</th>\n",
       "      <th>Customer Age (days)</th>\n",
       "      <th>Avg Order Value</th>\n",
       "      <th>Gross Margin</th>\n",
       "      <th>CLTV</th>\n",
       "    </tr>\n",
       "  </thead>\n",
       "  <tbody>\n",
       "    <tr>\n",
       "      <th>28</th>\n",
       "      <td>1029</td>\n",
       "      <td>55719.210</td>\n",
       "      <td>5953.2038</td>\n",
       "      <td>2020-01-14</td>\n",
       "      <td>2023-12-24</td>\n",
       "      <td>58</td>\n",
       "      <td>1441</td>\n",
       "      <td>960.68</td>\n",
       "      <td>0.106843</td>\n",
       "      <td>38409.45</td>\n",
       "    </tr>\n",
       "    <tr>\n",
       "      <th>82</th>\n",
       "      <td>1085</td>\n",
       "      <td>15736.129</td>\n",
       "      <td>1207.3113</td>\n",
       "      <td>2020-07-25</td>\n",
       "      <td>2023-12-04</td>\n",
       "      <td>20</td>\n",
       "      <td>1228</td>\n",
       "      <td>786.81</td>\n",
       "      <td>0.076722</td>\n",
       "      <td>31457.86</td>\n",
       "    </tr>\n",
       "    <tr>\n",
       "      <th>20</th>\n",
       "      <td>1021</td>\n",
       "      <td>28643.804</td>\n",
       "      <td>9449.0246</td>\n",
       "      <td>2020-02-28</td>\n",
       "      <td>2023-12-22</td>\n",
       "      <td>38</td>\n",
       "      <td>1394</td>\n",
       "      <td>753.78</td>\n",
       "      <td>0.329880</td>\n",
       "      <td>30137.27</td>\n",
       "    </tr>\n",
       "  </tbody>\n",
       "</table>\n",
       "</div>"
      ],
      "text/plain": [
       "    Customer ID  Total Sales  Total Profit First Purchase Date  \\\n",
       "28         1029    55719.210     5953.2038          2020-01-14   \n",
       "82         1085    15736.129     1207.3113          2020-07-25   \n",
       "20         1021    28643.804     9449.0246          2020-02-28   \n",
       "\n",
       "   Last Purchase Date  Num of Orders  Customer Age (days)  Avg Order Value  \\\n",
       "28         2023-12-24             58                 1441           960.68   \n",
       "82         2023-12-04             20                 1228           786.81   \n",
       "20         2023-12-22             38                 1394           753.78   \n",
       "\n",
       "    Gross Margin      CLTV  \n",
       "28      0.106843  38409.45  \n",
       "82      0.076722  31457.86  \n",
       "20      0.329880  30137.27  "
      ]
     },
     "execution_count": 42,
     "metadata": {},
     "output_type": "execute_result"
    }
   ],
   "source": [
    "customer_summary.sort_values('CLTV', ascending=False).head(3)"
   ]
  },
  {
   "cell_type": "code",
   "execution_count": 43,
   "metadata": {
    "application/vnd.databricks.v1+cell": {
     "cellMetadata": {},
     "inputWidgets": {},
     "nuid": "01898b1f-9139-4bb6-a52b-1fdb786a1c66",
     "showTitle": false,
     "tableResultSettingsMap": {},
     "title": ""
    }
   },
   "outputs": [
    {
     "data": {
      "image/png": "[encoded data removed]",
      "text/plain": [
       "<Figure size 640x480 with 1 Axes>"
      ]
     },
     "metadata": {},
     "output_type": "display_data"
    }
   ],
   "source": [
    "#let's inspect distribution of CLTV:\n",
    "customer_summary['CLTV'].hist(bins=30)\n",
    "plt.title('Distribution of Customer Lifetime Value')\n",
    "plt.xlabel('CLTV')\n",
    "plt.ylabel('Customer Count')\n",
    "plt.show()"
   ]
  },
  {
   "cell_type": "code",
   "execution_count": 44,
   "metadata": {},
   "outputs": [],
   "source": [
    "customer_summary['CLTV Segment'] = pd.qcut(customer_summary['CLTV'], 4, labels=['Low', 'Mid', 'High', 'Top'])"
   ]
  },
  {
   "cell_type": "code",
   "execution_count": 45,
   "metadata": {},
   "outputs": [],
   "source": [
    "margin_cutoff_value = 0.25\n",
    "customer_summary['Margin Tier'] = np.where(customer_summary['Gross Margin'] > margin_cutoff_value, 'Top', 'Standard')"
   ]
  },
  {
   "cell_type": "code",
   "execution_count": 46,
   "metadata": {},
   "outputs": [
    {
     "data": {
      "text/html": [
       "<div>\n",
       "<style scoped>\n",
       "    .dataframe tbody tr th:only-of-type {\n",
       "        vertical-align: middle;\n",
       "    }\n",
       "\n",
       "    .dataframe tbody tr th {\n",
       "        vertical-align: top;\n",
       "    }\n",
       "\n",
       "    .dataframe thead th {\n",
       "        text-align: right;\n",
       "    }\n",
       "</style>\n",
       "<table border=\"1\" class=\"dataframe\">\n",
       "  <thead>\n",
       "    <tr style=\"text-align: right;\">\n",
       "      <th></th>\n",
       "      <th>Customer ID</th>\n",
       "      <th>Total Sales</th>\n",
       "      <th>Total Profit</th>\n",
       "      <th>First Purchase Date</th>\n",
       "      <th>Last Purchase Date</th>\n",
       "      <th>Num of Orders</th>\n",
       "      <th>Customer Age (days)</th>\n",
       "      <th>Avg Order Value</th>\n",
       "      <th>Gross Margin</th>\n",
       "      <th>CLTV</th>\n",
       "      <th>CLTV Segment</th>\n",
       "      <th>Margin Tier</th>\n",
       "    </tr>\n",
       "  </thead>\n",
       "  <tbody>\n",
       "    <tr>\n",
       "      <th>0</th>\n",
       "      <td>1001</td>\n",
       "      <td>12617.114</td>\n",
       "      <td>2281.7391</td>\n",
       "      <td>2020-04-15</td>\n",
       "      <td>2023-12-19</td>\n",
       "      <td>31</td>\n",
       "      <td>1344</td>\n",
       "      <td>407.00</td>\n",
       "      <td>0.180845</td>\n",
       "      <td>16272.48</td>\n",
       "      <td>Mid</td>\n",
       "      <td>Standard</td>\n",
       "    </tr>\n",
       "    <tr>\n",
       "      <th>1</th>\n",
       "      <td>1002</td>\n",
       "      <td>27278.593</td>\n",
       "      <td>3312.6698</td>\n",
       "      <td>2020-03-31</td>\n",
       "      <td>2023-12-10</td>\n",
       "      <td>76</td>\n",
       "      <td>1350</td>\n",
       "      <td>358.93</td>\n",
       "      <td>0.121438</td>\n",
       "      <td>14350.57</td>\n",
       "      <td>Low</td>\n",
       "      <td>Standard</td>\n",
       "    </tr>\n",
       "    <tr>\n",
       "      <th>2</th>\n",
       "      <td>1003</td>\n",
       "      <td>39941.640</td>\n",
       "      <td>-2796.2935</td>\n",
       "      <td>2020-02-19</td>\n",
       "      <td>2023-12-30</td>\n",
       "      <td>61</td>\n",
       "      <td>1411</td>\n",
       "      <td>654.78</td>\n",
       "      <td>-0.070009</td>\n",
       "      <td>26179.10</td>\n",
       "      <td>Top</td>\n",
       "      <td>Standard</td>\n",
       "    </tr>\n",
       "  </tbody>\n",
       "</table>\n",
       "</div>"
      ],
      "text/plain": [
       "   Customer ID  Total Sales  Total Profit First Purchase Date  \\\n",
       "0         1001    12617.114     2281.7391          2020-04-15   \n",
       "1         1002    27278.593     3312.6698          2020-03-31   \n",
       "2         1003    39941.640    -2796.2935          2020-02-19   \n",
       "\n",
       "  Last Purchase Date  Num of Orders  Customer Age (days)  Avg Order Value  \\\n",
       "0         2023-12-19             31                 1344           407.00   \n",
       "1         2023-12-10             76                 1350           358.93   \n",
       "2         2023-12-30             61                 1411           654.78   \n",
       "\n",
       "   Gross Margin      CLTV CLTV Segment Margin Tier  \n",
       "0      0.180845  16272.48          Mid    Standard  \n",
       "1      0.121438  14350.57          Low    Standard  \n",
       "2     -0.070009  26179.10          Top    Standard  "
      ]
     },
     "execution_count": 46,
     "metadata": {},
     "output_type": "execute_result"
    }
   ],
   "source": [
    "customer_summary.head(3)"
   ]
  },
  {
   "cell_type": "code",
   "execution_count": 96,
   "metadata": {},
   "outputs": [
    {
     "data": {
      "text/html": [
       "<div>\n",
       "<style scoped>\n",
       "    .dataframe tbody tr th:only-of-type {\n",
       "        vertical-align: middle;\n",
       "    }\n",
       "\n",
       "    .dataframe tbody tr th {\n",
       "        vertical-align: top;\n",
       "    }\n",
       "\n",
       "    .dataframe thead th {\n",
       "        text-align: right;\n",
       "    }\n",
       "</style>\n",
       "<table border=\"1\" class=\"dataframe\">\n",
       "  <thead>\n",
       "    <tr style=\"text-align: right;\">\n",
       "      <th></th>\n",
       "      <th></th>\n",
       "      <th>CLTV</th>\n",
       "      <th>Customer ID</th>\n",
       "    </tr>\n",
       "    <tr>\n",
       "      <th>Margin Tier</th>\n",
       "      <th>CLTV Segment</th>\n",
       "      <th></th>\n",
       "      <th></th>\n",
       "    </tr>\n",
       "  </thead>\n",
       "  <tbody>\n",
       "    <tr>\n",
       "      <th rowspan=\"4\" valign=\"top\">Standard</th>\n",
       "      <th>Low</th>\n",
       "      <td>12767.33</td>\n",
       "      <td>25</td>\n",
       "    </tr>\n",
       "    <tr>\n",
       "      <th>Mid</th>\n",
       "      <td>16371.97</td>\n",
       "      <td>25</td>\n",
       "    </tr>\n",
       "    <tr>\n",
       "      <th>High</th>\n",
       "      <td>18744.71</td>\n",
       "      <td>24</td>\n",
       "    </tr>\n",
       "    <tr>\n",
       "      <th>Top</th>\n",
       "      <td>25526.72</td>\n",
       "      <td>20</td>\n",
       "    </tr>\n",
       "    <tr>\n",
       "      <th rowspan=\"4\" valign=\"top\">Top</th>\n",
       "      <th>Low</th>\n",
       "      <td>NaN</td>\n",
       "      <td>0</td>\n",
       "    </tr>\n",
       "    <tr>\n",
       "      <th>Mid</th>\n",
       "      <td>NaN</td>\n",
       "      <td>0</td>\n",
       "    </tr>\n",
       "    <tr>\n",
       "      <th>High</th>\n",
       "      <td>NaN</td>\n",
       "      <td>0</td>\n",
       "    </tr>\n",
       "    <tr>\n",
       "      <th>Top</th>\n",
       "      <td>25991.59</td>\n",
       "      <td>5</td>\n",
       "    </tr>\n",
       "  </tbody>\n",
       "</table>\n",
       "</div>"
      ],
      "text/plain": [
       "                              CLTV  Customer ID\n",
       "Margin Tier CLTV Segment                       \n",
       "Standard    Low           12767.33           25\n",
       "            Mid           16371.97           25\n",
       "            High          18744.71           24\n",
       "            Top           25526.72           20\n",
       "Top         Low                NaN            0\n",
       "            Mid                NaN            0\n",
       "            High               NaN            0\n",
       "            Top           25991.59            5"
      ]
     },
     "execution_count": 96,
     "metadata": {},
     "output_type": "execute_result"
    }
   ],
   "source": [
    "customer_summary.groupby(['Margin Tier', 'CLTV Segment'], observed=False).agg({'CLTV': 'mean', 'Customer ID': 'count'}).round(2)"
   ]
  },
  {
   "cell_type": "code",
   "execution_count": 48,
   "metadata": {},
   "outputs": [],
   "source": [
    "customer_summary['Industry'] = customer_summary['Customer ID'].map(df[['Customer ID', 'Industry']]\\\n",
    "                                                                   .drop_duplicates().set_index('Customer ID')['Industry'].to_dict())"
   ]
  },
  {
   "cell_type": "code",
   "execution_count": 94,
   "metadata": {},
   "outputs": [
    {
     "data": {
      "text/html": [
       "<div>\n",
       "<style scoped>\n",
       "    .dataframe tbody tr th:only-of-type {\n",
       "        vertical-align: middle;\n",
       "    }\n",
       "\n",
       "    .dataframe tbody tr th {\n",
       "        vertical-align: top;\n",
       "    }\n",
       "\n",
       "    .dataframe thead th {\n",
       "        text-align: right;\n",
       "    }\n",
       "</style>\n",
       "<table border=\"1\" class=\"dataframe\">\n",
       "  <thead>\n",
       "    <tr style=\"text-align: right;\">\n",
       "      <th></th>\n",
       "      <th>CLTV</th>\n",
       "      <th>Customer ID</th>\n",
       "    </tr>\n",
       "    <tr>\n",
       "      <th>Industry</th>\n",
       "      <th></th>\n",
       "      <th></th>\n",
       "    </tr>\n",
       "  </thead>\n",
       "  <tbody>\n",
       "    <tr>\n",
       "      <th>Finance</th>\n",
       "      <td>17413.71</td>\n",
       "      <td>20</td>\n",
       "    </tr>\n",
       "    <tr>\n",
       "      <th>Energy</th>\n",
       "      <td>17560.29</td>\n",
       "      <td>14</td>\n",
       "    </tr>\n",
       "    <tr>\n",
       "      <th>Tech</th>\n",
       "      <td>17415.80</td>\n",
       "      <td>13</td>\n",
       "    </tr>\n",
       "    <tr>\n",
       "      <th>Manufacturing</th>\n",
       "      <td>18656.83</td>\n",
       "      <td>11</td>\n",
       "    </tr>\n",
       "    <tr>\n",
       "      <th>Retail</th>\n",
       "      <td>18872.12</td>\n",
       "      <td>11</td>\n",
       "    </tr>\n",
       "    <tr>\n",
       "      <th>Healthcare</th>\n",
       "      <td>21096.21</td>\n",
       "      <td>10</td>\n",
       "    </tr>\n",
       "    <tr>\n",
       "      <th>Consumer Products</th>\n",
       "      <td>18992.73</td>\n",
       "      <td>9</td>\n",
       "    </tr>\n",
       "    <tr>\n",
       "      <th>Communications</th>\n",
       "      <td>16505.09</td>\n",
       "      <td>5</td>\n",
       "    </tr>\n",
       "    <tr>\n",
       "      <th>Transportation</th>\n",
       "      <td>19942.59</td>\n",
       "      <td>4</td>\n",
       "    </tr>\n",
       "    <tr>\n",
       "      <th>Misc</th>\n",
       "      <td>20656.66</td>\n",
       "      <td>2</td>\n",
       "    </tr>\n",
       "  </tbody>\n",
       "</table>\n",
       "</div>"
      ],
      "text/plain": [
       "                       CLTV  Customer ID\n",
       "Industry                                \n",
       "Finance            17413.71           20\n",
       "Energy             17560.29           14\n",
       "Tech               17415.80           13\n",
       "Manufacturing      18656.83           11\n",
       "Retail             18872.12           11\n",
       "Healthcare         21096.21           10\n",
       "Consumer Products  18992.73            9\n",
       "Communications     16505.09            5\n",
       "Transportation     19942.59            4\n",
       "Misc               20656.66            2"
      ]
     },
     "execution_count": 94,
     "metadata": {},
     "output_type": "execute_result"
    }
   ],
   "source": [
    "customer_summary.groupby(['Industry'], observed=False).agg({'CLTV': 'mean', 'Customer ID': 'count'}).sort_values(by = 'Customer ID', ascending = False).round(2)"
   ]
  },
  {
   "cell_type": "markdown",
   "metadata": {},
   "source": [
    "### Conclusion: \n",
    "Segmentation based on CLTV and Gross Margin revealed the most profitable customer segments, guiding strategies for retention and share-of-wallet growth.\n",
    "Segmentation by Industry highlighted the key revenue drivers, enabling more targeted customer conversations and more effective allocation of resources."
   ]
  },
  {
   "cell_type": "code",
   "execution_count": null,
   "metadata": {},
   "outputs": [],
   "source": []
  }
 ],
 "metadata": {
  "application/vnd.databricks.v1+notebook": {
   "computePreferences": null,
   "dashboards": [],
   "environmentMetadata": {
    "base_environment": "",
    "environment_version": "4"
   },
   "inputWidgetPreferences": null,
   "language": "python",
   "notebookMetadata": {
    "mostRecentlyExecutedCommandWithImplicitDF": {
     "commandId": 8492768532653653,
     "dataframes": [
      "_sqldf"
     ]
    },
    "pythonIndentUnit": 2
   },
   "notebookName": "CLTV_withPython",
   "widgets": {}
  },
  "kernelspec": {
   "display_name": "Python 3 (ipykernel)",
   "language": "python",
   "name": "python3"
  },
  "language_info": {
   "codemirror_mode": {
    "name": "ipython",
    "version": 3
   },
   "file_extension": ".py",
   "mimetype": "text/x-python",
   "name": "python",
   "nbconvert_exporter": "python",
   "pygments_lexer": "ipython3",
   "version": "3.12.7"
  }
 },
 "nbformat": 4,
 "nbformat_minor": 4
}
